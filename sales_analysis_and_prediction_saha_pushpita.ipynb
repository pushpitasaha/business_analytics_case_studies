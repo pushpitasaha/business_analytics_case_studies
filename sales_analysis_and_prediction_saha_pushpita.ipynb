{
  "nbformat": 4,
  "nbformat_minor": 0,
  "metadata": {
    "colab": {
      "provenance": [],
      "authorship_tag": "ABX9TyN9wclhmuvpPvcZq3xOc4Tp",
      "include_colab_link": true
    },
    "kernelspec": {
      "name": "python3",
      "display_name": "Python 3"
    },
    "language_info": {
      "name": "python"
    }
  },
  "cells": [
    {
      "cell_type": "markdown",
      "metadata": {
        "id": "view-in-github",
        "colab_type": "text"
      },
      "source": [
        "<a href=\"https://colab.research.google.com/github/pushpitasaha/business_analytics_case_studies/blob/main/sales_analysis_and_prediction_saha_pushpita.ipynb\" target=\"_parent\"><img src=\"https://colab.research.google.com/assets/colab-badge.svg\" alt=\"Open In Colab\"/></a>"
      ]
    },
    {
      "cell_type": "markdown",
      "source": [
        "# Case 1: Sales Analysis and Prediction (Questions 1, 2, and 3)\n",
        "\n",
        " You have been provided with the following monthly sales data for the past six months:\n",
        "\n",
        "![image.png](data:image/png;base64,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)\n"
      ],
      "metadata": {
        "id": "U70bbZWDRR27"
      }
    },
    {
      "cell_type": "markdown",
      "source": [
        "####Question 1:\n",
        " ● Write a Python function called `calculate_total_sales` that takes the sales data as a list\n",
        " and calculates the total sales across all months (combined). The function should return\n",
        " the result."
      ],
      "metadata": {
        "id": "L0QgU5UeRbZq"
      }
    },
    {
      "cell_type": "code",
      "execution_count": 10,
      "metadata": {
        "id": "fLPgC0xGRMw4"
      },
      "outputs": [],
      "source": [
        "\"\"\"\n",
        "Assumptions:\n",
        "- input is a list of sales data over months, not considering the dictionary month:sales pairs\n",
        "\"\"\"\n",
        "\n",
        "def calculate_total_sales(sales_data):\n",
        "  result = 0 # define and initialize result that will hold the total\n",
        "  for data in sales_data:\n",
        "    result += data\n",
        "  return result"
      ]
    },
    {
      "cell_type": "code",
      "source": [
        "sales_data = [52000, 61000, 57000, 60000, 55000, 58000]"
      ],
      "metadata": {
        "id": "94C0qTUZTUgt"
      },
      "execution_count": 4,
      "outputs": []
    },
    {
      "cell_type": "code",
      "source": [
        "calculate_total_sales(sales_data)"
      ],
      "metadata": {
        "colab": {
          "base_uri": "https://localhost:8080/"
        },
        "id": "kYI0UIxwThME",
        "outputId": "e23ce216-0bb3-4495-a54f-70f7741cb683"
      },
      "execution_count": null,
      "outputs": [
        {
          "output_type": "execute_result",
          "data": {
            "text/plain": [
              "343000"
            ]
          },
          "metadata": {},
          "execution_count": 4
        }
      ]
    },
    {
      "cell_type": "code",
      "source": [
        "# writing a simple test to see if sum calculation is correct\n",
        "test_tsix = [2, 2, 1, 1]"
      ],
      "metadata": {
        "id": "1kmrep-GTnVy"
      },
      "execution_count": 15,
      "outputs": []
    },
    {
      "cell_type": "code",
      "source": [
        "calculate_total_sales(test_tsix)"
      ],
      "metadata": {
        "colab": {
          "base_uri": "https://localhost:8080/",
          "height": 141
        },
        "id": "f4QMJXajUDr0",
        "outputId": "35318074-d68b-4c3e-a6ae-976095bce9df"
      },
      "execution_count": 13,
      "outputs": [
        {
          "output_type": "error",
          "ename": "NameError",
          "evalue": "name 'test_tsix' is not defined",
          "traceback": [
            "\u001b[0;31m---------------------------------------------------------------------------\u001b[0m",
            "\u001b[0;31mNameError\u001b[0m                                 Traceback (most recent call last)",
            "\u001b[0;32m<ipython-input-13-79db783c4ae3>\u001b[0m in \u001b[0;36m<cell line: 1>\u001b[0;34m()\u001b[0m\n\u001b[0;32m----> 1\u001b[0;31m \u001b[0mcalculate_total_sales\u001b[0m\u001b[0;34m(\u001b[0m\u001b[0mtest_tsix\u001b[0m\u001b[0;34m)\u001b[0m\u001b[0;34m\u001b[0m\u001b[0;34m\u001b[0m\u001b[0m\n\u001b[0m",
            "\u001b[0;31mNameError\u001b[0m: name 'test_tsix' is not defined"
          ]
        }
      ]
    },
    {
      "cell_type": "code",
      "source": [
        "# Alternative approach: using built-in sum\n",
        "# Better optimized than manual loop iteration\n",
        "# More readable\n",
        "def calculate_total_sales_v2(sales_data):\n",
        "  return sum(sales_data)"
      ],
      "metadata": {
        "id": "O4pbyVS2UMeD"
      },
      "execution_count": null,
      "outputs": []
    },
    {
      "cell_type": "code",
      "source": [
        "calculate_total_sales_v2(test_tsix)"
      ],
      "metadata": {
        "colab": {
          "base_uri": "https://localhost:8080/"
        },
        "id": "9HlXhU6aU9LW",
        "outputId": "fdc79338-0d45-443d-b8ef-c2485b896087"
      },
      "execution_count": null,
      "outputs": [
        {
          "output_type": "execute_result",
          "data": {
            "text/plain": [
              "6"
            ]
          },
          "metadata": {},
          "execution_count": 8
        }
      ]
    },
    {
      "cell_type": "code",
      "source": [
        "#Further improvements: check for edge cases and raise errors\n",
        "def calculate_total_sales_v3(sales_data):\n",
        "  # if input is not a list\n",
        "  if not isinstance(sales_data, list):\n",
        "    raise ValueError(\"Input must be a list.\")\n",
        "\n",
        "  #check for empty list\n",
        "  if len(sales_data) == 0:\n",
        "    return 0 # total would be zero, also could raise ValueError\n",
        "\n",
        "  # check if all items are numeric\n",
        "  for data in sales_data:\n",
        "    if not isinstance(data, (int, float)):\n",
        "      raise ValueError(\"Every element in list must be numeric\")\n",
        "    if isinstance(data, float) and (data != data): #Check for NaN, null vals represented as a specific float\n",
        "      raise ValueError(\"NaN value found in list, clean input and try again.\")\n",
        "\n",
        "  return sum(sales_data) # after all checks, finally count total"
      ],
      "metadata": {
        "id": "Jz2KR6LEVfQ-"
      },
      "execution_count": 7,
      "outputs": []
    },
    {
      "cell_type": "code",
      "source": [
        "import numpy as np #for nan value\n",
        "test_null = [1, 2, np.nan, 5]\n",
        "test_alpha = [1, 4, 3.5, 'a']\n",
        "test_empty = []"
      ],
      "metadata": {
        "id": "uxAfMu8QXwuV"
      },
      "execution_count": null,
      "outputs": []
    },
    {
      "cell_type": "code",
      "source": [
        "calculate_total_sales_v3(test_null) #should show value error and null message"
      ],
      "metadata": {
        "colab": {
          "base_uri": "https://localhost:8080/",
          "height": 263
        },
        "id": "huRh_IoGYZjt",
        "outputId": "8d6a133d-a63d-4871-c257-62922389b1d5"
      },
      "execution_count": null,
      "outputs": [
        {
          "output_type": "error",
          "ename": "ValueError",
          "evalue": "NaN value found in list, clean input and try again.",
          "traceback": [
            "\u001b[0;31m---------------------------------------------------------------------------\u001b[0m",
            "\u001b[0;31mValueError\u001b[0m                                Traceback (most recent call last)",
            "\u001b[0;32m<ipython-input-15-c17f64c3330e>\u001b[0m in \u001b[0;36m<cell line: 1>\u001b[0;34m()\u001b[0m\n\u001b[0;32m----> 1\u001b[0;31m \u001b[0mcalculate_total_sales_v3\u001b[0m\u001b[0;34m(\u001b[0m\u001b[0mtest_null\u001b[0m\u001b[0;34m)\u001b[0m\u001b[0;34m\u001b[0m\u001b[0;34m\u001b[0m\u001b[0m\n\u001b[0m",
            "\u001b[0;32m<ipython-input-9-e94567c6916a>\u001b[0m in \u001b[0;36mcalculate_total_sales_v3\u001b[0;34m(sales_data)\u001b[0m\n\u001b[1;32m     14\u001b[0m       \u001b[0;32mraise\u001b[0m \u001b[0mValueError\u001b[0m\u001b[0;34m(\u001b[0m\u001b[0;34m\"Every element in list must be numeric\"\u001b[0m\u001b[0;34m)\u001b[0m\u001b[0;34m\u001b[0m\u001b[0;34m\u001b[0m\u001b[0m\n\u001b[1;32m     15\u001b[0m     \u001b[0;32mif\u001b[0m \u001b[0misinstance\u001b[0m\u001b[0;34m(\u001b[0m\u001b[0mdata\u001b[0m\u001b[0;34m,\u001b[0m \u001b[0mfloat\u001b[0m\u001b[0;34m)\u001b[0m \u001b[0;32mand\u001b[0m \u001b[0;34m(\u001b[0m\u001b[0mdata\u001b[0m \u001b[0;34m!=\u001b[0m \u001b[0mdata\u001b[0m\u001b[0;34m)\u001b[0m\u001b[0;34m:\u001b[0m \u001b[0;31m#Check for NaN, null vals represented as a specific float\u001b[0m\u001b[0;34m\u001b[0m\u001b[0;34m\u001b[0m\u001b[0m\n\u001b[0;32m---> 16\u001b[0;31m       \u001b[0;32mraise\u001b[0m \u001b[0mValueError\u001b[0m\u001b[0;34m(\u001b[0m\u001b[0;34m\"NaN value found in list, clean input and try again.\"\u001b[0m\u001b[0;34m)\u001b[0m\u001b[0;34m\u001b[0m\u001b[0;34m\u001b[0m\u001b[0m\n\u001b[0m\u001b[1;32m     17\u001b[0m \u001b[0;34m\u001b[0m\u001b[0m\n\u001b[1;32m     18\u001b[0m   \u001b[0;32mreturn\u001b[0m \u001b[0msum\u001b[0m\u001b[0;34m(\u001b[0m\u001b[0msales_data\u001b[0m\u001b[0;34m)\u001b[0m \u001b[0;31m# after all checks, finally count total\u001b[0m\u001b[0;34m\u001b[0m\u001b[0;34m\u001b[0m\u001b[0m\n",
            "\u001b[0;31mValueError\u001b[0m: NaN value found in list, clean input and try again."
          ]
        }
      ]
    },
    {
      "cell_type": "code",
      "source": [
        "calculate_total_sales_v3(test_alpha) #should show value error and not numeric message"
      ],
      "metadata": {
        "colab": {
          "base_uri": "https://localhost:8080/",
          "height": 263
        },
        "id": "NJkSUtmuYqil",
        "outputId": "c6acdb85-1981-4a20-bea3-17f84e5502c9"
      },
      "execution_count": null,
      "outputs": [
        {
          "output_type": "error",
          "ename": "ValueError",
          "evalue": "Every element in list must be numeric",
          "traceback": [
            "\u001b[0;31m---------------------------------------------------------------------------\u001b[0m",
            "\u001b[0;31mValueError\u001b[0m                                Traceback (most recent call last)",
            "\u001b[0;32m<ipython-input-16-8da7210fa8b8>\u001b[0m in \u001b[0;36m<cell line: 1>\u001b[0;34m()\u001b[0m\n\u001b[0;32m----> 1\u001b[0;31m \u001b[0mcalculate_total_sales_v3\u001b[0m\u001b[0;34m(\u001b[0m\u001b[0mtest_alpha\u001b[0m\u001b[0;34m)\u001b[0m \u001b[0;31m#should show value error and not numeric message\u001b[0m\u001b[0;34m\u001b[0m\u001b[0;34m\u001b[0m\u001b[0m\n\u001b[0m",
            "\u001b[0;32m<ipython-input-9-e94567c6916a>\u001b[0m in \u001b[0;36mcalculate_total_sales_v3\u001b[0;34m(sales_data)\u001b[0m\n\u001b[1;32m     12\u001b[0m   \u001b[0;32mfor\u001b[0m \u001b[0mdata\u001b[0m \u001b[0;32min\u001b[0m \u001b[0msales_data\u001b[0m\u001b[0;34m:\u001b[0m\u001b[0;34m\u001b[0m\u001b[0;34m\u001b[0m\u001b[0m\n\u001b[1;32m     13\u001b[0m     \u001b[0;32mif\u001b[0m \u001b[0;32mnot\u001b[0m \u001b[0misinstance\u001b[0m\u001b[0;34m(\u001b[0m\u001b[0mdata\u001b[0m\u001b[0;34m,\u001b[0m \u001b[0;34m(\u001b[0m\u001b[0mint\u001b[0m\u001b[0;34m,\u001b[0m \u001b[0mfloat\u001b[0m\u001b[0;34m)\u001b[0m\u001b[0;34m)\u001b[0m\u001b[0;34m:\u001b[0m\u001b[0;34m\u001b[0m\u001b[0;34m\u001b[0m\u001b[0m\n\u001b[0;32m---> 14\u001b[0;31m       \u001b[0;32mraise\u001b[0m \u001b[0mValueError\u001b[0m\u001b[0;34m(\u001b[0m\u001b[0;34m\"Every element in list must be numeric\"\u001b[0m\u001b[0;34m)\u001b[0m\u001b[0;34m\u001b[0m\u001b[0;34m\u001b[0m\u001b[0m\n\u001b[0m\u001b[1;32m     15\u001b[0m     \u001b[0;32mif\u001b[0m \u001b[0misinstance\u001b[0m\u001b[0;34m(\u001b[0m\u001b[0mdata\u001b[0m\u001b[0;34m,\u001b[0m \u001b[0mfloat\u001b[0m\u001b[0;34m)\u001b[0m \u001b[0;32mand\u001b[0m \u001b[0;34m(\u001b[0m\u001b[0mdata\u001b[0m \u001b[0;34m!=\u001b[0m \u001b[0mdata\u001b[0m\u001b[0;34m)\u001b[0m\u001b[0;34m:\u001b[0m \u001b[0;31m#Check for NaN, null vals represented as a specific float\u001b[0m\u001b[0;34m\u001b[0m\u001b[0;34m\u001b[0m\u001b[0m\n\u001b[1;32m     16\u001b[0m       \u001b[0;32mraise\u001b[0m \u001b[0mValueError\u001b[0m\u001b[0;34m(\u001b[0m\u001b[0;34m\"NaN value found in list, clean input and try again.\"\u001b[0m\u001b[0;34m)\u001b[0m\u001b[0;34m\u001b[0m\u001b[0;34m\u001b[0m\u001b[0m\n",
            "\u001b[0;31mValueError\u001b[0m: Every element in list must be numeric"
          ]
        }
      ]
    },
    {
      "cell_type": "code",
      "source": [
        "calculate_total_sales_v3(test_empty) #should show 0"
      ],
      "metadata": {
        "colab": {
          "base_uri": "https://localhost:8080/"
        },
        "id": "Y8eC39PSYwQ8",
        "outputId": "3de4e5f5-91a6-472f-8b31-ee997b9afae1"
      },
      "execution_count": null,
      "outputs": [
        {
          "output_type": "execute_result",
          "data": {
            "text/plain": [
              "0"
            ]
          },
          "metadata": {},
          "execution_count": 17
        }
      ]
    },
    {
      "cell_type": "markdown",
      "source": [
        "#### Question 2:\n",
        " The company wants to predict the sales for the next 3 months (months 7, 8, 9) based on the\n",
        " average monthly sales from the historical data.\n",
        "\n",
        " ● Write a Python function called `predict_next_months_sales` that does the following:\n",
        "\n",
        " - a. Takes the sales data list as input\n",
        " - b. Calls the `calculate_total_sales` function to get the total sales\n",
        " - c. Calculates the average monthly sales by dividing the total sales by the number of\n",
        " months\n",
        " - d. Creates a list `next_months_sales` containing the predicted sales for the next 3\n",
        " months, assuming each month's sales will be the average monthly sales of all the\n",
        " months before.\n",
        " - e. Returns the `next_months_sales` list"
      ],
      "metadata": {
        "id": "DRQRiySYY8jj"
      }
    },
    {
      "cell_type": "code",
      "source": [
        "def predict_next_months_sales(sales_data):\n",
        "  next_months_sales = []\n",
        "  copy_list = sales_data[:] # to not modify the OG list\n",
        "  for i in range(3): # we only want next 3 months\n",
        "    avgSoFar = calculate_total_sales(copy_list) / len(copy_list) # calculate average\n",
        "    copy_list.append(avgSoFar) # add avg to input list\n",
        "    next_months_sales.append(avgSoFar) # add avg to return list\n",
        "  return next_months_sales"
      ],
      "metadata": {
        "id": "HXSpVkY0ZNZ1"
      },
      "execution_count": 8,
      "outputs": []
    },
    {
      "cell_type": "code",
      "source": [
        "test_odds = [1, 3, 5]"
      ],
      "metadata": {
        "id": "TnP0zbmr0v1R"
      },
      "execution_count": 20,
      "outputs": []
    },
    {
      "cell_type": "code",
      "source": [
        "predict_next_months_sales(sales_data)"
      ],
      "metadata": {
        "colab": {
          "base_uri": "https://localhost:8080/"
        },
        "id": "aLBb6b_X1Ict",
        "outputId": "bb16da5c-4511-4d15-a766-d23b50750741"
      },
      "execution_count": 22,
      "outputs": [
        {
          "output_type": "execute_result",
          "data": {
            "text/plain": [
              "[57166.666666666664, 57166.666666666664, 57166.666666666664]"
            ]
          },
          "metadata": {},
          "execution_count": 22
        }
      ]
    },
    {
      "cell_type": "code",
      "source": [
        "predict_next_months_sales(test_odds)"
      ],
      "metadata": {
        "id": "sKrl34hZZNlf",
        "colab": {
          "base_uri": "https://localhost:8080/"
        },
        "outputId": "90931c83-6ed0-4e40-bcb3-108c60f9fd72"
      },
      "execution_count": 21,
      "outputs": [
        {
          "output_type": "execute_result",
          "data": {
            "text/plain": [
              "[3.0, 3.0, 3.0]"
            ]
          },
          "metadata": {},
          "execution_count": 21
        }
      ]
    },
    {
      "cell_type": "markdown",
      "source": [
        "####Question 3:\n",
        " ● Use conditional statements to write a function `analyze_sales_trend` that\n",
        "\n",
        " - takes the sales data list as input and\n",
        " - returns \"Increasing\" if the sales are increasing month-over-month,\n",
        " - \"Decreasing\" if the sales are decreasing month-over-month,\n",
        " - and \"No Trend\" otherwise.\n"
      ],
      "metadata": {
        "id": "ffU5em7x1Z6b"
      }
    },
    {
      "cell_type": "code",
      "source": [
        "# assuming the next 3 months of prediction is not be appended in provided historical sales data input\n",
        "def analyze_sales_trend(sales_data):\n",
        "  # handle case if data length is too short\n",
        "  if len(sales_data) < 2:\n",
        "    return \"No Trend\"\n",
        "\n",
        "  trend = \"No Trend\" # initialize trend variable with no trend\n",
        "\n",
        "  for i in range(len(sales_data) - 1): #iterate through the last index\n",
        "    if sales_data[i + 1] > sales_data[i]: #if next data is big - Increasing\n",
        "      if trend == \"Decreasing\":\n",
        "        return \"No Trend\" # conflicts so we do early exit\n",
        "      trend = \"Increasing\" # no conflict, set to Increase\n",
        "    elif sales_data[i + 1] > sales_data[i]: #if next data is small - Decreasing\n",
        "      if trend == \"Increasing\":\n",
        "        return \"No Trend\" # conflicts so we do early exit\n",
        "      trend = \"Decreasing\" # no conflict, set to Increase\n",
        "  return trend"
      ],
      "metadata": {
        "id": "7tsNenf9ZNwc"
      },
      "execution_count": 28,
      "outputs": []
    },
    {
      "cell_type": "code",
      "source": [
        "analyze_sales_trend(sales_data)"
      ],
      "metadata": {
        "colab": {
          "base_uri": "https://localhost:8080/",
          "height": 36
        },
        "id": "LFFYVC514rxH",
        "outputId": "b33b750d-f898-4181-b41c-2e30afe42d8b"
      },
      "execution_count": 29,
      "outputs": [
        {
          "output_type": "execute_result",
          "data": {
            "text/plain": [
              "'Increasing'"
            ],
            "application/vnd.google.colaboratory.intrinsic+json": {
              "type": "string"
            }
          },
          "metadata": {},
          "execution_count": 29
        }
      ]
    },
    {
      "cell_type": "code",
      "source": [
        "analyze_sales_trend(test_odds)"
      ],
      "metadata": {
        "colab": {
          "base_uri": "https://localhost:8080/",
          "height": 36
        },
        "id": "JBqIYQBY4woA",
        "outputId": "78b3950a-e2af-418c-8918-6b918bb6031f"
      },
      "execution_count": 30,
      "outputs": [
        {
          "output_type": "execute_result",
          "data": {
            "text/plain": [
              "'Increasing'"
            ],
            "application/vnd.google.colaboratory.intrinsic+json": {
              "type": "string"
            }
          },
          "metadata": {},
          "execution_count": 30
        }
      ]
    },
    {
      "cell_type": "code",
      "source": [
        "analyze_sales_trend(predict_next_months_sales(sales_data))"
      ],
      "metadata": {
        "colab": {
          "base_uri": "https://localhost:8080/",
          "height": 36
        },
        "id": "7AP1Nusf5NjI",
        "outputId": "6bcb4ebb-ca71-4cdb-ed06-62735f23303d"
      },
      "execution_count": 31,
      "outputs": [
        {
          "output_type": "execute_result",
          "data": {
            "text/plain": [
              "'No Trend'"
            ],
            "application/vnd.google.colaboratory.intrinsic+json": {
              "type": "string"
            }
          },
          "metadata": {},
          "execution_count": 31
        }
      ]
    },
    {
      "cell_type": "code",
      "source": [
        "# Save changes in a cell to automate pushing updates to GitHub\n",
        "# !git add your_notebook.ipynb\n",
        "# !git commit -m \"Auto-update notebook\"\n",
        "# !git push origin main  # Or the branch you're working on"
      ],
      "metadata": {
        "id": "a3od_f1mZN4N"
      },
      "execution_count": null,
      "outputs": []
    }
  ]
}